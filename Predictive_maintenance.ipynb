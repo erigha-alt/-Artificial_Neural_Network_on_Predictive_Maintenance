{
 "cells": [
  {
   "cell_type": "code",
   "execution_count": null,
   "metadata": {},
   "outputs": [],
   "source": []
  },
  {
   "cell_type": "markdown",
   "metadata": {},
   "source": [
    "## **Training Artificial Neural Network on Predictive Maintenance Dataset**"
   ]
  },
  {
   "cell_type": "markdown",
   "metadata": {},
   "source": [
    "### **Importing Libraries**"
   ]
  },
  {
   "cell_type": "code",
   "execution_count": 105,
   "metadata": {},
   "outputs": [],
   "source": [
    "import warnings\n",
    "warnings.filterwarnings('ignore')\n",
    "import pandas as pd\n",
    "import numpy as np\n",
    "#from ydata_profiling import ProfileReport\n",
    "import matplotlib.pyplot as plt\n",
    "import seaborn as sns"
   ]
  },
  {
   "cell_type": "markdown",
   "metadata": {},
   "source": [
    "### Data Collection\n",
    "### Reading Dataset downloaded from Kaggle \n",
    "https://www.kaggle.com/datasets/stephanmatzka/predictive-maintenance-dataset-ai4i-2020/data"
   ]
  },
  {
   "cell_type": "code",
   "execution_count": 106,
   "metadata": {},
   "outputs": [],
   "source": [
    "# Importing dataset\n",
    "df= pd.read_csv(\"predictive.csv\")"
   ]
  },
  {
   "cell_type": "code",
   "execution_count": 108,
   "metadata": {},
   "outputs": [
    {
     "name": "stdout",
     "output_type": "stream",
     "text": [
      "<class 'pandas.core.frame.DataFrame'>\n",
      "RangeIndex: 10000 entries, 0 to 9999\n",
      "Data columns (total 14 columns):\n",
      " #   Column                   Non-Null Count  Dtype  \n",
      "---  ------                   --------------  -----  \n",
      " 0   UDI                      10000 non-null  int64  \n",
      " 1   Product ID               10000 non-null  object \n",
      " 2   Type                     10000 non-null  object \n",
      " 3   Air temperature [K]      10000 non-null  float64\n",
      " 4   Process temperature [K]  10000 non-null  float64\n",
      " 5   Rotational speed [rpm]   10000 non-null  int64  \n",
      " 6   Torque [Nm]              10000 non-null  float64\n",
      " 7   Tool wear [min]          10000 non-null  int64  \n",
      " 8   Machine failure          10000 non-null  int64  \n",
      " 9   TWF                      10000 non-null  int64  \n",
      " 10  HDF                      10000 non-null  int64  \n",
      " 11  PWF                      10000 non-null  int64  \n",
      " 12  OSF                      10000 non-null  int64  \n",
      " 13  RNF                      10000 non-null  int64  \n",
      "dtypes: float64(3), int64(9), object(2)\n",
      "memory usage: 1.1+ MB\n"
     ]
    }
   ],
   "source": [
    "df.info()"
   ]
  },
  {
   "cell_type": "markdown",
   "metadata": {},
   "source": [
    "#### **Columns or Features Description**\n",
    "\n",
    "- UID: unique identifier ranging from 1 to 10000\n",
    "- product ID: consisting of a letter L, M, or H for low (50% of all products), medium (30%) and high (20%) as product quality variants and a variant-specific serial number\n",
    "- type: just the product type L, M or H from column 2\n",
    "- air temperature [K]: generated using a random walk process later normalized to a standard deviation of 2 K around 300 K\n",
    "- process temperature [K]: generated using a random walk process normalized to a standard deviation of 1 K, added to the air temperature plus 10 K.\n",
    "- rotational speed [rpm]: calculated from a power of 2860 W, overlaid with a normally distributed noise\n",
    "- torque [Nm]: torque values are normally distributed around 40 Nm with a SD = 10 Nm and no negative values.\n",
    "- tool wear [min]: The quality variants H/M/L add 5/3/2 minutes of tool wear to the used tool in the process.\n",
    "- a 'machine failure' label that indicates, whether the machine has failed in this particular datapoint for any of the following failure modes are true.\n",
    "The machine failure consists of five independent failure modes\n",
    "\n",
    "- tool wear failure (TWF): the tool will be replaced of fail at a randomly selected tool wear time between 200 - 240 mins (120 times in our dataset). At this point in time, the tool is replaced 69 times, and fails 51 times (randomly assigned).\n",
    "- heat dissipation failure (HDF): heat dissipation causes a process failure, if the difference between air- and process temperature is below 8.6 K and the tools rotational speed is below 1380 rpm. This is the case for 115 data points.\n",
    "- power failure (PWF): the product of torque and rotational speed (in rad/s) equals the power required for the process. If this power is below 3500 W or above 9000 W, the process fails, which is the case 95 times in our dataset.\n",
    "- overstrain failure (OSF): if the product of tool wear and torque exceeds 11,000 minNm for the L product variant (12,000 M, 13,000 H), the process fails due to overstrain. This is true for 98 datapoints.\n",
    "- random failures (RNF): each process has a chance of 0,1 % to fail regardless of its process parameters. This is the case for only 5 datapoints, less than could be expected for 10,000 datapoints in our dataset.\n",
    "- If at least one of the above failure modes is true, the process fails and the 'machine failure' label is set to 1. It is therefore not transparent to the machine learning method, which of the failure modes has caused the process to fail."
   ]
  },
  {
   "cell_type": "markdown",
   "metadata": {},
   "source": [
    "## **Data Preprocessing**"
   ]
  },
  {
   "cell_type": "code",
   "execution_count": 109,
   "metadata": {},
   "outputs": [
    {
     "data": {
      "text/html": [
       "<div>\n",
       "<style scoped>\n",
       "    .dataframe tbody tr th:only-of-type {\n",
       "        vertical-align: middle;\n",
       "    }\n",
       "\n",
       "    .dataframe tbody tr th {\n",
       "        vertical-align: top;\n",
       "    }\n",
       "\n",
       "    .dataframe thead th {\n",
       "        text-align: right;\n",
       "    }\n",
       "</style>\n",
       "<table border=\"1\" class=\"dataframe\">\n",
       "  <thead>\n",
       "    <tr style=\"text-align: right;\">\n",
       "      <th></th>\n",
       "      <th>UDI</th>\n",
       "      <th>Product ID</th>\n",
       "      <th>Type</th>\n",
       "      <th>Air temperature [K]</th>\n",
       "      <th>Process temperature [K]</th>\n",
       "      <th>Rotational speed [rpm]</th>\n",
       "      <th>Torque [Nm]</th>\n",
       "      <th>Tool wear [min]</th>\n",
       "      <th>Machine failure</th>\n",
       "      <th>TWF</th>\n",
       "      <th>HDF</th>\n",
       "      <th>PWF</th>\n",
       "      <th>OSF</th>\n",
       "      <th>RNF</th>\n",
       "    </tr>\n",
       "  </thead>\n",
       "  <tbody>\n",
       "    <tr>\n",
       "      <th>0</th>\n",
       "      <td>1</td>\n",
       "      <td>M14860</td>\n",
       "      <td>M</td>\n",
       "      <td>298.1</td>\n",
       "      <td>308.6</td>\n",
       "      <td>1551</td>\n",
       "      <td>42.8</td>\n",
       "      <td>0</td>\n",
       "      <td>0</td>\n",
       "      <td>0</td>\n",
       "      <td>0</td>\n",
       "      <td>0</td>\n",
       "      <td>0</td>\n",
       "      <td>0</td>\n",
       "    </tr>\n",
       "    <tr>\n",
       "      <th>1</th>\n",
       "      <td>2</td>\n",
       "      <td>L47181</td>\n",
       "      <td>L</td>\n",
       "      <td>298.2</td>\n",
       "      <td>308.7</td>\n",
       "      <td>1408</td>\n",
       "      <td>46.3</td>\n",
       "      <td>3</td>\n",
       "      <td>0</td>\n",
       "      <td>0</td>\n",
       "      <td>0</td>\n",
       "      <td>0</td>\n",
       "      <td>0</td>\n",
       "      <td>0</td>\n",
       "    </tr>\n",
       "    <tr>\n",
       "      <th>2</th>\n",
       "      <td>3</td>\n",
       "      <td>L47182</td>\n",
       "      <td>L</td>\n",
       "      <td>298.1</td>\n",
       "      <td>308.5</td>\n",
       "      <td>1498</td>\n",
       "      <td>49.4</td>\n",
       "      <td>5</td>\n",
       "      <td>0</td>\n",
       "      <td>0</td>\n",
       "      <td>0</td>\n",
       "      <td>0</td>\n",
       "      <td>0</td>\n",
       "      <td>0</td>\n",
       "    </tr>\n",
       "    <tr>\n",
       "      <th>3</th>\n",
       "      <td>4</td>\n",
       "      <td>L47183</td>\n",
       "      <td>L</td>\n",
       "      <td>298.2</td>\n",
       "      <td>308.6</td>\n",
       "      <td>1433</td>\n",
       "      <td>39.5</td>\n",
       "      <td>7</td>\n",
       "      <td>0</td>\n",
       "      <td>0</td>\n",
       "      <td>0</td>\n",
       "      <td>0</td>\n",
       "      <td>0</td>\n",
       "      <td>0</td>\n",
       "    </tr>\n",
       "    <tr>\n",
       "      <th>4</th>\n",
       "      <td>5</td>\n",
       "      <td>L47184</td>\n",
       "      <td>L</td>\n",
       "      <td>298.2</td>\n",
       "      <td>308.7</td>\n",
       "      <td>1408</td>\n",
       "      <td>40.0</td>\n",
       "      <td>9</td>\n",
       "      <td>0</td>\n",
       "      <td>0</td>\n",
       "      <td>0</td>\n",
       "      <td>0</td>\n",
       "      <td>0</td>\n",
       "      <td>0</td>\n",
       "    </tr>\n",
       "  </tbody>\n",
       "</table>\n",
       "</div>"
      ],
      "text/plain": [
       "   UDI Product ID Type  Air temperature [K]  Process temperature [K]  \\\n",
       "0    1     M14860    M                298.1                    308.6   \n",
       "1    2     L47181    L                298.2                    308.7   \n",
       "2    3     L47182    L                298.1                    308.5   \n",
       "3    4     L47183    L                298.2                    308.6   \n",
       "4    5     L47184    L                298.2                    308.7   \n",
       "\n",
       "   Rotational speed [rpm]  Torque [Nm]  Tool wear [min]  Machine failure  TWF  \\\n",
       "0                    1551         42.8                0                0    0   \n",
       "1                    1408         46.3                3                0    0   \n",
       "2                    1498         49.4                5                0    0   \n",
       "3                    1433         39.5                7                0    0   \n",
       "4                    1408         40.0                9                0    0   \n",
       "\n",
       "   HDF  PWF  OSF  RNF  \n",
       "0    0    0    0    0  \n",
       "1    0    0    0    0  \n",
       "2    0    0    0    0  \n",
       "3    0    0    0    0  \n",
       "4    0    0    0    0  "
      ]
     },
     "execution_count": 109,
     "metadata": {},
     "output_type": "execute_result"
    }
   ],
   "source": [
    "df.head(5)"
   ]
  },
  {
   "cell_type": "code",
   "execution_count": 110,
   "metadata": {},
   "outputs": [],
   "source": [
    "df.drop([\"UDI\", \"Product ID\",\"RNF\",\"OSF\",\"PWF\",\"HDF\",\"TWF\"], axis=1, inplace=True)"
   ]
  },
  {
   "cell_type": "code",
   "execution_count": 111,
   "metadata": {},
   "outputs": [
    {
     "data": {
      "text/plain": [
       "(10000, 7)"
      ]
     },
     "execution_count": 111,
     "metadata": {},
     "output_type": "execute_result"
    }
   ],
   "source": [
    "df.shape"
   ]
  },
  {
   "cell_type": "code",
   "execution_count": 112,
   "metadata": {},
   "outputs": [
    {
     "data": {
      "text/plain": [
       "Index(['Type', 'Air temperature [K]', 'Process temperature [K]',\n",
       "       'Rotational speed [rpm]', 'Torque [Nm]', 'Tool wear [min]',\n",
       "       'Machine failure'],\n",
       "      dtype='object')"
      ]
     },
     "execution_count": 112,
     "metadata": {},
     "output_type": "execute_result"
    }
   ],
   "source": [
    "# To show the features of dataset\n",
    "df.columns"
   ]
  },
  {
   "cell_type": "code",
   "execution_count": 113,
   "metadata": {},
   "outputs": [
    {
     "data": {
      "text/html": [
       "<div>\n",
       "<style scoped>\n",
       "    .dataframe tbody tr th:only-of-type {\n",
       "        vertical-align: middle;\n",
       "    }\n",
       "\n",
       "    .dataframe tbody tr th {\n",
       "        vertical-align: top;\n",
       "    }\n",
       "\n",
       "    .dataframe thead th {\n",
       "        text-align: right;\n",
       "    }\n",
       "</style>\n",
       "<table border=\"1\" class=\"dataframe\">\n",
       "  <thead>\n",
       "    <tr style=\"text-align: right;\">\n",
       "      <th></th>\n",
       "      <th>Type</th>\n",
       "      <th>Air temperature [K]</th>\n",
       "      <th>Process temperature [K]</th>\n",
       "      <th>Rotational speed [rpm]</th>\n",
       "      <th>Torque [Nm]</th>\n",
       "      <th>Tool wear [min]</th>\n",
       "      <th>Machine failure</th>\n",
       "    </tr>\n",
       "  </thead>\n",
       "  <tbody>\n",
       "    <tr>\n",
       "      <th>count</th>\n",
       "      <td>10000</td>\n",
       "      <td>10000.000000</td>\n",
       "      <td>10000.000000</td>\n",
       "      <td>10000.000000</td>\n",
       "      <td>10000.000000</td>\n",
       "      <td>10000.000000</td>\n",
       "      <td>10000.000000</td>\n",
       "    </tr>\n",
       "    <tr>\n",
       "      <th>unique</th>\n",
       "      <td>3</td>\n",
       "      <td>NaN</td>\n",
       "      <td>NaN</td>\n",
       "      <td>NaN</td>\n",
       "      <td>NaN</td>\n",
       "      <td>NaN</td>\n",
       "      <td>NaN</td>\n",
       "    </tr>\n",
       "    <tr>\n",
       "      <th>top</th>\n",
       "      <td>L</td>\n",
       "      <td>NaN</td>\n",
       "      <td>NaN</td>\n",
       "      <td>NaN</td>\n",
       "      <td>NaN</td>\n",
       "      <td>NaN</td>\n",
       "      <td>NaN</td>\n",
       "    </tr>\n",
       "    <tr>\n",
       "      <th>freq</th>\n",
       "      <td>6000</td>\n",
       "      <td>NaN</td>\n",
       "      <td>NaN</td>\n",
       "      <td>NaN</td>\n",
       "      <td>NaN</td>\n",
       "      <td>NaN</td>\n",
       "      <td>NaN</td>\n",
       "    </tr>\n",
       "    <tr>\n",
       "      <th>mean</th>\n",
       "      <td>NaN</td>\n",
       "      <td>300.004930</td>\n",
       "      <td>310.005560</td>\n",
       "      <td>1538.776100</td>\n",
       "      <td>39.986910</td>\n",
       "      <td>107.951000</td>\n",
       "      <td>0.033900</td>\n",
       "    </tr>\n",
       "    <tr>\n",
       "      <th>std</th>\n",
       "      <td>NaN</td>\n",
       "      <td>2.000259</td>\n",
       "      <td>1.483734</td>\n",
       "      <td>179.284096</td>\n",
       "      <td>9.968934</td>\n",
       "      <td>63.654147</td>\n",
       "      <td>0.180981</td>\n",
       "    </tr>\n",
       "    <tr>\n",
       "      <th>min</th>\n",
       "      <td>NaN</td>\n",
       "      <td>295.300000</td>\n",
       "      <td>305.700000</td>\n",
       "      <td>1168.000000</td>\n",
       "      <td>3.800000</td>\n",
       "      <td>0.000000</td>\n",
       "      <td>0.000000</td>\n",
       "    </tr>\n",
       "    <tr>\n",
       "      <th>25%</th>\n",
       "      <td>NaN</td>\n",
       "      <td>298.300000</td>\n",
       "      <td>308.800000</td>\n",
       "      <td>1423.000000</td>\n",
       "      <td>33.200000</td>\n",
       "      <td>53.000000</td>\n",
       "      <td>0.000000</td>\n",
       "    </tr>\n",
       "    <tr>\n",
       "      <th>50%</th>\n",
       "      <td>NaN</td>\n",
       "      <td>300.100000</td>\n",
       "      <td>310.100000</td>\n",
       "      <td>1503.000000</td>\n",
       "      <td>40.100000</td>\n",
       "      <td>108.000000</td>\n",
       "      <td>0.000000</td>\n",
       "    </tr>\n",
       "    <tr>\n",
       "      <th>75%</th>\n",
       "      <td>NaN</td>\n",
       "      <td>301.500000</td>\n",
       "      <td>311.100000</td>\n",
       "      <td>1612.000000</td>\n",
       "      <td>46.800000</td>\n",
       "      <td>162.000000</td>\n",
       "      <td>0.000000</td>\n",
       "    </tr>\n",
       "    <tr>\n",
       "      <th>max</th>\n",
       "      <td>NaN</td>\n",
       "      <td>304.500000</td>\n",
       "      <td>313.800000</td>\n",
       "      <td>2886.000000</td>\n",
       "      <td>76.600000</td>\n",
       "      <td>253.000000</td>\n",
       "      <td>1.000000</td>\n",
       "    </tr>\n",
       "  </tbody>\n",
       "</table>\n",
       "</div>"
      ],
      "text/plain": [
       "         Type  Air temperature [K]  Process temperature [K]  \\\n",
       "count   10000         10000.000000             10000.000000   \n",
       "unique      3                  NaN                      NaN   \n",
       "top         L                  NaN                      NaN   \n",
       "freq     6000                  NaN                      NaN   \n",
       "mean      NaN           300.004930               310.005560   \n",
       "std       NaN             2.000259                 1.483734   \n",
       "min       NaN           295.300000               305.700000   \n",
       "25%       NaN           298.300000               308.800000   \n",
       "50%       NaN           300.100000               310.100000   \n",
       "75%       NaN           301.500000               311.100000   \n",
       "max       NaN           304.500000               313.800000   \n",
       "\n",
       "        Rotational speed [rpm]   Torque [Nm]  Tool wear [min]  Machine failure  \n",
       "count             10000.000000  10000.000000     10000.000000     10000.000000  \n",
       "unique                     NaN           NaN              NaN              NaN  \n",
       "top                        NaN           NaN              NaN              NaN  \n",
       "freq                       NaN           NaN              NaN              NaN  \n",
       "mean               1538.776100     39.986910       107.951000         0.033900  \n",
       "std                 179.284096      9.968934        63.654147         0.180981  \n",
       "min                1168.000000      3.800000         0.000000         0.000000  \n",
       "25%                1423.000000     33.200000        53.000000         0.000000  \n",
       "50%                1503.000000     40.100000       108.000000         0.000000  \n",
       "75%                1612.000000     46.800000       162.000000         0.000000  \n",
       "max                2886.000000     76.600000       253.000000         1.000000  "
      ]
     },
     "execution_count": 113,
     "metadata": {},
     "output_type": "execute_result"
    }
   ],
   "source": [
    "# To show statistical summary of the columns of dataset\n",
    "df.describe(include=\"all\")"
   ]
  },
  {
   "cell_type": "code",
   "execution_count": 114,
   "metadata": {},
   "outputs": [
    {
     "data": {
      "text/plain": [
       "Type                       0\n",
       "Air temperature [K]        0\n",
       "Process temperature [K]    0\n",
       "Rotational speed [rpm]     0\n",
       "Torque [Nm]                0\n",
       "Tool wear [min]            0\n",
       "Machine failure            0\n",
       "dtype: int64"
      ]
     },
     "execution_count": 114,
     "metadata": {},
     "output_type": "execute_result"
    }
   ],
   "source": [
    "# To count the null values\n",
    "df.isnull().sum()"
   ]
  },
  {
   "cell_type": "code",
   "execution_count": 115,
   "metadata": {},
   "outputs": [
    {
     "name": "stdout",
     "output_type": "stream",
     "text": [
      "<class 'pandas.core.frame.DataFrame'>\n",
      "RangeIndex: 10000 entries, 0 to 9999\n",
      "Data columns (total 7 columns):\n",
      " #   Column                   Non-Null Count  Dtype  \n",
      "---  ------                   --------------  -----  \n",
      " 0   Type                     10000 non-null  object \n",
      " 1   Air temperature [K]      10000 non-null  float64\n",
      " 2   Process temperature [K]  10000 non-null  float64\n",
      " 3   Rotational speed [rpm]   10000 non-null  int64  \n",
      " 4   Torque [Nm]              10000 non-null  float64\n",
      " 5   Tool wear [min]          10000 non-null  int64  \n",
      " 6   Machine failure          10000 non-null  int64  \n",
      "dtypes: float64(3), int64(3), object(1)\n",
      "memory usage: 547.0+ KB\n"
     ]
    }
   ],
   "source": [
    "df.info()"
   ]
  },
  {
   "cell_type": "code",
   "execution_count": 116,
   "metadata": {},
   "outputs": [
    {
     "data": {
      "text/plain": [
       "L    6000\n",
       "M    2997\n",
       "H    1003\n",
       "Name: Type, dtype: int64"
      ]
     },
     "execution_count": 116,
     "metadata": {},
     "output_type": "execute_result"
    }
   ],
   "source": [
    "df['Type'].value_counts()"
   ]
  },
  {
   "cell_type": "code",
   "execution_count": 117,
   "metadata": {},
   "outputs": [
    {
     "data": {
      "text/html": [
       "<div>\n",
       "<style scoped>\n",
       "    .dataframe tbody tr th:only-of-type {\n",
       "        vertical-align: middle;\n",
       "    }\n",
       "\n",
       "    .dataframe tbody tr th {\n",
       "        vertical-align: top;\n",
       "    }\n",
       "\n",
       "    .dataframe thead th {\n",
       "        text-align: right;\n",
       "    }\n",
       "</style>\n",
       "<table border=\"1\" class=\"dataframe\">\n",
       "  <thead>\n",
       "    <tr style=\"text-align: right;\">\n",
       "      <th></th>\n",
       "      <th>Type</th>\n",
       "      <th>Air temperature [K]</th>\n",
       "      <th>Process temperature [K]</th>\n",
       "      <th>Rotational speed [rpm]</th>\n",
       "      <th>Torque [Nm]</th>\n",
       "      <th>Tool wear [min]</th>\n",
       "      <th>Machine failure</th>\n",
       "    </tr>\n",
       "  </thead>\n",
       "  <tbody>\n",
       "    <tr>\n",
       "      <th>0</th>\n",
       "      <td>M</td>\n",
       "      <td>298.1</td>\n",
       "      <td>308.6</td>\n",
       "      <td>1551</td>\n",
       "      <td>42.8</td>\n",
       "      <td>0</td>\n",
       "      <td>0</td>\n",
       "    </tr>\n",
       "    <tr>\n",
       "      <th>1</th>\n",
       "      <td>L</td>\n",
       "      <td>298.2</td>\n",
       "      <td>308.7</td>\n",
       "      <td>1408</td>\n",
       "      <td>46.3</td>\n",
       "      <td>3</td>\n",
       "      <td>0</td>\n",
       "    </tr>\n",
       "    <tr>\n",
       "      <th>2</th>\n",
       "      <td>L</td>\n",
       "      <td>298.1</td>\n",
       "      <td>308.5</td>\n",
       "      <td>1498</td>\n",
       "      <td>49.4</td>\n",
       "      <td>5</td>\n",
       "      <td>0</td>\n",
       "    </tr>\n",
       "    <tr>\n",
       "      <th>3</th>\n",
       "      <td>L</td>\n",
       "      <td>298.2</td>\n",
       "      <td>308.6</td>\n",
       "      <td>1433</td>\n",
       "      <td>39.5</td>\n",
       "      <td>7</td>\n",
       "      <td>0</td>\n",
       "    </tr>\n",
       "    <tr>\n",
       "      <th>4</th>\n",
       "      <td>L</td>\n",
       "      <td>298.2</td>\n",
       "      <td>308.7</td>\n",
       "      <td>1408</td>\n",
       "      <td>40.0</td>\n",
       "      <td>9</td>\n",
       "      <td>0</td>\n",
       "    </tr>\n",
       "  </tbody>\n",
       "</table>\n",
       "</div>"
      ],
      "text/plain": [
       "  Type  Air temperature [K]  Process temperature [K]  Rotational speed [rpm]  \\\n",
       "0    M                298.1                    308.6                    1551   \n",
       "1    L                298.2                    308.7                    1408   \n",
       "2    L                298.1                    308.5                    1498   \n",
       "3    L                298.2                    308.6                    1433   \n",
       "4    L                298.2                    308.7                    1408   \n",
       "\n",
       "   Torque [Nm]  Tool wear [min]  Machine failure  \n",
       "0         42.8                0                0  \n",
       "1         46.3                3                0  \n",
       "2         49.4                5                0  \n",
       "3         39.5                7                0  \n",
       "4         40.0                9                0  "
      ]
     },
     "execution_count": 117,
     "metadata": {},
     "output_type": "execute_result"
    }
   ],
   "source": [
    "df.head(5)"
   ]
  },
  {
   "cell_type": "code",
   "execution_count": 118,
   "metadata": {},
   "outputs": [
    {
     "data": {
      "text/plain": [
       "<seaborn.axisgrid.FacetGrid at 0x1d1285dd010>"
      ]
     },
     "execution_count": 118,
     "metadata": {},
     "output_type": "execute_result"
    },
    {
     "data": {
      "image/png": "[encoded data removed]",
      "text/plain": [
       "<Figure size 500x500 with 1 Axes>"
      ]
     },
     "metadata": {},
     "output_type": "display_data"
    }
   ],
   "source": [
    "df_cat= ['Type','Machine failure']\n",
    "sns.catplot(x='Type',kind='count', data=df,orient='h')"
   ]
  },
  {
   "cell_type": "code",
   "execution_count": 119,
   "metadata": {},
   "outputs": [
    {
     "data": {
      "text/plain": [
       "<seaborn.axisgrid.FacetGrid at 0x1d1286dbad0>"
      ]
     },
     "execution_count": 119,
     "metadata": {},
     "output_type": "execute_result"
    },
    {
     "data": {
      "image/png": "[encoded data removed]",
      "text/plain": [
       "<Figure size 500x500 with 1 Axes>"
      ]
     },
     "metadata": {},
     "output_type": "display_data"
    }
   ],
   "source": [
    "sns.catplot(x='Machine failure',kind='count', data=df,orient='h')"
   ]
  },
  {
   "cell_type": "code",
   "execution_count": 120,
   "metadata": {},
   "outputs": [
    {
     "data": {
      "text/plain": [
       "0    9661\n",
       "1     339\n",
       "Name: Machine failure, dtype: int64"
      ]
     },
     "execution_count": 120,
     "metadata": {},
     "output_type": "execute_result"
    }
   ],
   "source": [
    "df['Machine failure'].value_counts()"
   ]
  },
  {
   "cell_type": "code",
   "execution_count": 121,
   "metadata": {},
   "outputs": [],
   "source": [
    "from sklearn.utils import resample\n",
    "#create two different dataframe of majority and minority class \n",
    "df_majority = df[(df['Machine failure']==0)] \n",
    "df_minority = df[(df['Machine failure']==1)] \n",
    "# upsample minority class\n",
    "df_minority_upsampled = resample(df_minority, \n",
    "                                 replace=True,    # sample with replacement\n",
    "                                 n_samples= 9661, # to match majority class\n",
    "                                 random_state=42)  # reproducible results\n",
    "# Combine majority class with upsampled minority class\n",
    "df_upsampled = pd.concat([df_minority_upsampled, df_majority])"
   ]
  },
  {
   "cell_type": "code",
   "execution_count": 122,
   "metadata": {},
   "outputs": [
    {
     "data": {
      "text/plain": [
       "1    9661\n",
       "0    9661\n",
       "Name: Machine failure, dtype: int64"
      ]
     },
     "execution_count": 122,
     "metadata": {},
     "output_type": "execute_result"
    }
   ],
   "source": [
    "df_upsampled['Machine failure'].value_counts()"
   ]
  },
  {
   "cell_type": "code",
   "execution_count": 123,
   "metadata": {},
   "outputs": [
    {
     "data": {
      "text/plain": [
       "<seaborn.axisgrid.FacetGrid at 0x1d12877c4d0>"
      ]
     },
     "execution_count": 123,
     "metadata": {},
     "output_type": "execute_result"
    },
    {
     "data": {
      "image/png": "[encoded data removed]",
      "text/plain": [
       "<Figure size 500x500 with 1 Axes>"
      ]
     },
     "metadata": {},
     "output_type": "display_data"
    }
   ],
   "source": [
    "sns.catplot(x='Machine failure',kind='count', data=df_upsampled,orient='h')"
   ]
  },
  {
   "cell_type": "code",
   "execution_count": 124,
   "metadata": {},
   "outputs": [
    {
     "data": {
      "text/plain": [
       "Index(['Type', 'Air temperature [K]', 'Process temperature [K]',\n",
       "       'Rotational speed [rpm]', 'Torque [Nm]', 'Tool wear [min]',\n",
       "       'Machine failure'],\n",
       "      dtype='object')"
      ]
     },
     "execution_count": 124,
     "metadata": {},
     "output_type": "execute_result"
    }
   ],
   "source": [
    "df_upsampled.columns"
   ]
  },
  {
   "cell_type": "code",
   "execution_count": 125,
   "metadata": {},
   "outputs": [],
   "source": [
    "df_numeric = [ 'Air temperature [K]', 'Process temperature [K]',\n",
    "              'Rotational speed [rpm]', 'Torque [Nm]', 'Tool wear [min]']"
   ]
  },
  {
   "cell_type": "code",
   "execution_count": 126,
   "metadata": {},
   "outputs": [
    {
     "data": {
      "image/png": "[encoded data removed]",
      "text/plain": [
       "<Figure size 1000x1500 with 6 Axes>"
      ]
     },
     "metadata": {},
     "output_type": "display_data"
    }
   ],
   "source": [
    "num_bins = 6\n",
    "df_upsampled.hist(bins=num_bins,figsize=(10,15))\n",
    "#plt.savefig(\"histogram_v1.png\")\n",
    "plt.show()"
   ]
  },
  {
   "cell_type": "code",
   "execution_count": 127,
   "metadata": {},
   "outputs": [
    {
     "data": {
      "text/html": [
       "<div>\n",
       "<style scoped>\n",
       "    .dataframe tbody tr th:only-of-type {\n",
       "        vertical-align: middle;\n",
       "    }\n",
       "\n",
       "    .dataframe tbody tr th {\n",
       "        vertical-align: top;\n",
       "    }\n",
       "\n",
       "    .dataframe thead th {\n",
       "        text-align: right;\n",
       "    }\n",
       "</style>\n",
       "<table border=\"1\" class=\"dataframe\">\n",
       "  <thead>\n",
       "    <tr style=\"text-align: right;\">\n",
       "      <th></th>\n",
       "      <th>H</th>\n",
       "      <th>L</th>\n",
       "      <th>M</th>\n",
       "    </tr>\n",
       "  </thead>\n",
       "  <tbody>\n",
       "    <tr>\n",
       "      <th>4024</th>\n",
       "      <td>0</td>\n",
       "      <td>0</td>\n",
       "      <td>1</td>\n",
       "    </tr>\n",
       "    <tr>\n",
       "      <th>6618</th>\n",
       "      <td>0</td>\n",
       "      <td>0</td>\n",
       "      <td>1</td>\n",
       "    </tr>\n",
       "    <tr>\n",
       "      <th>4048</th>\n",
       "      <td>0</td>\n",
       "      <td>1</td>\n",
       "      <td>0</td>\n",
       "    </tr>\n",
       "    <tr>\n",
       "      <th>2864</th>\n",
       "      <td>1</td>\n",
       "      <td>0</td>\n",
       "      <td>0</td>\n",
       "    </tr>\n",
       "    <tr>\n",
       "      <th>4596</th>\n",
       "      <td>0</td>\n",
       "      <td>1</td>\n",
       "      <td>0</td>\n",
       "    </tr>\n",
       "  </tbody>\n",
       "</table>\n",
       "</div>"
      ],
      "text/plain": [
       "      H  L  M\n",
       "4024  0  0  1\n",
       "6618  0  0  1\n",
       "4048  0  1  0\n",
       "2864  1  0  0\n",
       "4596  0  1  0"
      ]
     },
     "execution_count": 127,
     "metadata": {},
     "output_type": "execute_result"
    }
   ],
   "source": [
    "# Create dummy variables for the 'Type' column using the get_dummies() function from Pandas\n",
    "# The 'Type' column is passed as the first parameter to get_dummies()\n",
    "\n",
    "type1= pd.get_dummies(df_upsampled[\"Type\"])\n",
    "\n",
    "# Display the first few rows of the resulting DataFrame 'type'\n",
    "type1.head()"
   ]
  },
  {
   "cell_type": "code",
   "execution_count": 128,
   "metadata": {},
   "outputs": [],
   "source": [
    "df_upsampled.drop([\"Type\"], axis=1, inplace=True)"
   ]
  },
  {
   "cell_type": "code",
   "execution_count": 129,
   "metadata": {},
   "outputs": [
    {
     "data": {
      "text/html": [
       "<div>\n",
       "<style scoped>\n",
       "    .dataframe tbody tr th:only-of-type {\n",
       "        vertical-align: middle;\n",
       "    }\n",
       "\n",
       "    .dataframe tbody tr th {\n",
       "        vertical-align: top;\n",
       "    }\n",
       "\n",
       "    .dataframe thead th {\n",
       "        text-align: right;\n",
       "    }\n",
       "</style>\n",
       "<table border=\"1\" class=\"dataframe\">\n",
       "  <thead>\n",
       "    <tr style=\"text-align: right;\">\n",
       "      <th></th>\n",
       "      <th>Air temperature [K]</th>\n",
       "      <th>Process temperature [K]</th>\n",
       "      <th>Rotational speed [rpm]</th>\n",
       "      <th>Torque [Nm]</th>\n",
       "      <th>Tool wear [min]</th>\n",
       "      <th>Machine failure</th>\n",
       "    </tr>\n",
       "  </thead>\n",
       "  <tbody>\n",
       "    <tr>\n",
       "      <th>4024</th>\n",
       "      <td>302.1</td>\n",
       "      <td>311.0</td>\n",
       "      <td>1351</td>\n",
       "      <td>60.3</td>\n",
       "      <td>207</td>\n",
       "      <td>1</td>\n",
       "    </tr>\n",
       "  </tbody>\n",
       "</table>\n",
       "</div>"
      ],
      "text/plain": [
       "      Air temperature [K]  Process temperature [K]  Rotational speed [rpm]  \\\n",
       "4024                302.1                    311.0                    1351   \n",
       "\n",
       "      Torque [Nm]  Tool wear [min]  Machine failure  \n",
       "4024         60.3              207                1  "
      ]
     },
     "execution_count": 129,
     "metadata": {},
     "output_type": "execute_result"
    }
   ],
   "source": [
    "#displaying our data after dropping columns\n",
    "df_upsampled.head(1)"
   ]
  },
  {
   "cell_type": "code",
   "execution_count": 130,
   "metadata": {},
   "outputs": [],
   "source": [
    "df_1 = pd.concat([type1,df_upsampled], axis=1)"
   ]
  },
  {
   "cell_type": "code",
   "execution_count": 131,
   "metadata": {},
   "outputs": [
    {
     "data": {
      "text/html": [
       "<div>\n",
       "<style scoped>\n",
       "    .dataframe tbody tr th:only-of-type {\n",
       "        vertical-align: middle;\n",
       "    }\n",
       "\n",
       "    .dataframe tbody tr th {\n",
       "        vertical-align: top;\n",
       "    }\n",
       "\n",
       "    .dataframe thead th {\n",
       "        text-align: right;\n",
       "    }\n",
       "</style>\n",
       "<table border=\"1\" class=\"dataframe\">\n",
       "  <thead>\n",
       "    <tr style=\"text-align: right;\">\n",
       "      <th></th>\n",
       "      <th>H</th>\n",
       "      <th>L</th>\n",
       "      <th>M</th>\n",
       "      <th>Air temperature [K]</th>\n",
       "      <th>Process temperature [K]</th>\n",
       "      <th>Rotational speed [rpm]</th>\n",
       "      <th>Torque [Nm]</th>\n",
       "      <th>Tool wear [min]</th>\n",
       "      <th>Machine failure</th>\n",
       "    </tr>\n",
       "  </thead>\n",
       "  <tbody>\n",
       "    <tr>\n",
       "      <th>4024</th>\n",
       "      <td>0</td>\n",
       "      <td>0</td>\n",
       "      <td>1</td>\n",
       "      <td>302.1</td>\n",
       "      <td>311.0</td>\n",
       "      <td>1351</td>\n",
       "      <td>60.3</td>\n",
       "      <td>207</td>\n",
       "      <td>1</td>\n",
       "    </tr>\n",
       "    <tr>\n",
       "      <th>6618</th>\n",
       "      <td>0</td>\n",
       "      <td>0</td>\n",
       "      <td>1</td>\n",
       "      <td>301.6</td>\n",
       "      <td>310.6</td>\n",
       "      <td>1309</td>\n",
       "      <td>65.8</td>\n",
       "      <td>75</td>\n",
       "      <td>1</td>\n",
       "    </tr>\n",
       "    <tr>\n",
       "      <th>4048</th>\n",
       "      <td>0</td>\n",
       "      <td>1</td>\n",
       "      <td>0</td>\n",
       "      <td>301.9</td>\n",
       "      <td>311.0</td>\n",
       "      <td>2691</td>\n",
       "      <td>12.1</td>\n",
       "      <td>31</td>\n",
       "      <td>1</td>\n",
       "    </tr>\n",
       "    <tr>\n",
       "      <th>2864</th>\n",
       "      <td>1</td>\n",
       "      <td>0</td>\n",
       "      <td>0</td>\n",
       "      <td>300.6</td>\n",
       "      <td>309.4</td>\n",
       "      <td>1380</td>\n",
       "      <td>47.6</td>\n",
       "      <td>246</td>\n",
       "      <td>1</td>\n",
       "    </tr>\n",
       "  </tbody>\n",
       "</table>\n",
       "</div>"
      ],
      "text/plain": [
       "      H  L  M  Air temperature [K]  Process temperature [K]  \\\n",
       "4024  0  0  1                302.1                    311.0   \n",
       "6618  0  0  1                301.6                    310.6   \n",
       "4048  0  1  0                301.9                    311.0   \n",
       "2864  1  0  0                300.6                    309.4   \n",
       "\n",
       "      Rotational speed [rpm]  Torque [Nm]  Tool wear [min]  Machine failure  \n",
       "4024                    1351         60.3              207                1  \n",
       "6618                    1309         65.8               75                1  \n",
       "4048                    2691         12.1               31                1  \n",
       "2864                    1380         47.6              246                1  "
      ]
     },
     "execution_count": 131,
     "metadata": {},
     "output_type": "execute_result"
    }
   ],
   "source": [
    "df_1.head(4)"
   ]
  },
  {
   "cell_type": "markdown",
   "metadata": {},
   "source": [
    "## Feature Selection"
   ]
  },
  {
   "cell_type": "code",
   "execution_count": 132,
   "metadata": {},
   "outputs": [],
   "source": [
    "X = df_1.drop('Machine failure', axis=1)\n",
    "y = df_1['Machine failure']\n"
   ]
  },
  {
   "cell_type": "code",
   "execution_count": 133,
   "metadata": {},
   "outputs": [],
   "source": [
    "from sklearn.feature_selection import SelectKBest\n",
    "from sklearn.feature_selection import chi2"
   ]
  },
  {
   "cell_type": "code",
   "execution_count": 134,
   "metadata": {},
   "outputs": [],
   "source": [
    "bestfeatures = SelectKBest(score_func=chi2, k='all')\n",
    "fit = bestfeatures.fit(X,y)"
   ]
  },
  {
   "cell_type": "code",
   "execution_count": 135,
   "metadata": {},
   "outputs": [],
   "source": [
    "dfscores = pd.DataFrame(fit.scores_)\n",
    "dfcolumns = pd.DataFrame(X.columns)"
   ]
  },
  {
   "cell_type": "code",
   "execution_count": 136,
   "metadata": {},
   "outputs": [
    {
     "data": {
      "text/html": [
       "<div>\n",
       "<style scoped>\n",
       "    .dataframe tbody tr th:only-of-type {\n",
       "        vertical-align: middle;\n",
       "    }\n",
       "\n",
       "    .dataframe tbody tr th {\n",
       "        vertical-align: top;\n",
       "    }\n",
       "\n",
       "    .dataframe thead th {\n",
       "        text-align: right;\n",
       "    }\n",
       "</style>\n",
       "<table border=\"1\" class=\"dataframe\">\n",
       "  <thead>\n",
       "    <tr style=\"text-align: right;\">\n",
       "      <th></th>\n",
       "      <th>Features</th>\n",
       "      <th>Score</th>\n",
       "    </tr>\n",
       "  </thead>\n",
       "  <tbody>\n",
       "    <tr>\n",
       "      <th>0</th>\n",
       "      <td>H</td>\n",
       "      <td>91.699937</td>\n",
       "    </tr>\n",
       "    <tr>\n",
       "      <th>1</th>\n",
       "      <td>L</td>\n",
       "      <td>70.134376</td>\n",
       "    </tr>\n",
       "    <tr>\n",
       "      <th>2</th>\n",
       "      <td>M</td>\n",
       "      <td>58.194160</td>\n",
       "    </tr>\n",
       "    <tr>\n",
       "      <th>3</th>\n",
       "      <td>Air temperature [K]</td>\n",
       "      <td>13.475922</td>\n",
       "    </tr>\n",
       "    <tr>\n",
       "      <th>4</th>\n",
       "      <td>Process temperature [K]</td>\n",
       "      <td>1.249640</td>\n",
       "    </tr>\n",
       "    <tr>\n",
       "      <th>5</th>\n",
       "      <td>Rotational speed [rpm]</td>\n",
       "      <td>6682.505697</td>\n",
       "    </tr>\n",
       "    <tr>\n",
       "      <th>6</th>\n",
       "      <td>Torque [Nm]</td>\n",
       "      <td>12150.194168</td>\n",
       "    </tr>\n",
       "    <tr>\n",
       "      <th>7</th>\n",
       "      <td>Tool wear [min]</td>\n",
       "      <td>51768.667284</td>\n",
       "    </tr>\n",
       "  </tbody>\n",
       "</table>\n",
       "</div>"
      ],
      "text/plain": [
       "                  Features         Score\n",
       "0                        H     91.699937\n",
       "1                        L     70.134376\n",
       "2                        M     58.194160\n",
       "3      Air temperature [K]     13.475922\n",
       "4  Process temperature [K]      1.249640\n",
       "5   Rotational speed [rpm]   6682.505697\n",
       "6              Torque [Nm]  12150.194168\n",
       "7          Tool wear [min]  51768.667284"
      ]
     },
     "execution_count": 136,
     "metadata": {},
     "output_type": "execute_result"
    }
   ],
   "source": [
    "featureScores = pd.concat([dfcolumns,dfscores],axis=1)\n",
    "featureScores.columns = ['Features','Score']\n",
    "featureScores"
   ]
  },
  {
   "cell_type": "code",
   "execution_count": 137,
   "metadata": {},
   "outputs": [
    {
     "name": "stdout",
     "output_type": "stream",
     "text": [
      "                  Features         Score\n",
      "7          Tool wear [min]  51768.667284\n",
      "6              Torque [Nm]  12150.194168\n",
      "5   Rotational speed [rpm]   6682.505697\n",
      "0                        H     91.699937\n",
      "1                        L     70.134376\n",
      "2                        M     58.194160\n",
      "3      Air temperature [K]     13.475922\n",
      "4  Process temperature [K]      1.249640\n"
     ]
    }
   ],
   "source": [
    "print(featureScores.nlargest(8,'Score'))"
   ]
  },
  {
   "cell_type": "code",
   "execution_count": 138,
   "metadata": {},
   "outputs": [
    {
     "data": {
      "text/html": [
       "<div>\n",
       "<style scoped>\n",
       "    .dataframe tbody tr th:only-of-type {\n",
       "        vertical-align: middle;\n",
       "    }\n",
       "\n",
       "    .dataframe tbody tr th {\n",
       "        vertical-align: top;\n",
       "    }\n",
       "\n",
       "    .dataframe thead th {\n",
       "        text-align: right;\n",
       "    }\n",
       "</style>\n",
       "<table border=\"1\" class=\"dataframe\">\n",
       "  <thead>\n",
       "    <tr style=\"text-align: right;\">\n",
       "      <th></th>\n",
       "      <th>H</th>\n",
       "      <th>L</th>\n",
       "      <th>M</th>\n",
       "      <th>Air temperature [K]</th>\n",
       "      <th>Rotational speed [rpm]</th>\n",
       "      <th>Torque [Nm]</th>\n",
       "      <th>Tool wear [min]</th>\n",
       "    </tr>\n",
       "  </thead>\n",
       "  <tbody>\n",
       "    <tr>\n",
       "      <th>4024</th>\n",
       "      <td>0</td>\n",
       "      <td>0</td>\n",
       "      <td>1</td>\n",
       "      <td>302.1</td>\n",
       "      <td>1351</td>\n",
       "      <td>60.3</td>\n",
       "      <td>207</td>\n",
       "    </tr>\n",
       "    <tr>\n",
       "      <th>6618</th>\n",
       "      <td>0</td>\n",
       "      <td>0</td>\n",
       "      <td>1</td>\n",
       "      <td>301.6</td>\n",
       "      <td>1309</td>\n",
       "      <td>65.8</td>\n",
       "      <td>75</td>\n",
       "    </tr>\n",
       "    <tr>\n",
       "      <th>4048</th>\n",
       "      <td>0</td>\n",
       "      <td>1</td>\n",
       "      <td>0</td>\n",
       "      <td>301.9</td>\n",
       "      <td>2691</td>\n",
       "      <td>12.1</td>\n",
       "      <td>31</td>\n",
       "    </tr>\n",
       "  </tbody>\n",
       "</table>\n",
       "</div>"
      ],
      "text/plain": [
       "      H  L  M  Air temperature [K]  Rotational speed [rpm]  Torque [Nm]  \\\n",
       "4024  0  0  1                302.1                    1351         60.3   \n",
       "6618  0  0  1                301.6                    1309         65.8   \n",
       "4048  0  1  0                301.9                    2691         12.1   \n",
       "\n",
       "      Tool wear [min]  \n",
       "4024              207  \n",
       "6618               75  \n",
       "4048               31  "
      ]
     },
     "execution_count": 138,
     "metadata": {},
     "output_type": "execute_result"
    }
   ],
   "source": [
    "X.drop(['Process temperature [K]'], axis=1,inplace = True)\n",
    "X.head(3)"
   ]
  },
  {
   "cell_type": "code",
   "execution_count": 139,
   "metadata": {},
   "outputs": [],
   "source": [
    "from sklearn.model_selection import train_test_split\n",
    "X_train, X_test, y_train, y_test = train_test_split(X, y, \n",
    "                                                    test_size = 0.2, \n",
    "                                                    random_state = 42)"
   ]
  },
  {
   "cell_type": "code",
   "execution_count": 140,
   "metadata": {},
   "outputs": [
    {
     "name": "stdout",
     "output_type": "stream",
     "text": [
      "(15457, 7)\n",
      "(3865, 7)\n",
      "(15457,)\n",
      "(3865,)\n"
     ]
    }
   ],
   "source": [
    "print(X_train.shape)\n",
    "print(X_test.shape)\n",
    "print(y_train.shape)\n",
    "print(y_test.shape)"
   ]
  },
  {
   "cell_type": "code",
   "execution_count": 141,
   "metadata": {},
   "outputs": [],
   "source": [
    "from sklearn.preprocessing import StandardScaler\n",
    "sc = StandardScaler()\n",
    "X_train = sc.fit_transform(X_train)\n",
    "X_test= sc.transform(X_test)"
   ]
  },
  {
   "cell_type": "code",
   "execution_count": 142,
   "metadata": {},
   "outputs": [],
   "source": [
    "import keras\n",
    "from keras.models import Sequential\n",
    "\n",
    "from keras.layers import Dropout\n",
    "from keras.layers import BatchNormalization\n",
    "from keras.layers import Dense\n"
   ]
  },
  {
   "cell_type": "code",
   "execution_count": 143,
   "metadata": {},
   "outputs": [],
   "source": [
    "# initializing ann\n",
    "model = Sequential()\n",
    "# Adding the first input layer and the first hidden layer\n",
    "model.add(Dense(10, kernel_initializer='he_normal', activation='relu', input_shape=(7,)))\n",
    "\n",
    "# Adding batch normalization before dropout\n",
    "model.add(BatchNormalization())\n",
    "model.add(Dropout(rate=0.1))\n",
    "\n",
    "# Adding the second hidden layer\n",
    "model.add(Dense(7, kernel_initializer='he_normal', activation='relu'))\n",
    "\n",
    "# Adding batch normalization before dropout\n",
    "model.add(BatchNormalization())\n",
    "model.add(Dropout(rate=0.1))\n",
    "\n",
    "# Adding the output layer\n",
    "model.add(Dense(1, kernel_initializer='he_normal', activation='sigmoid'))"
   ]
  },
  {
   "cell_type": "code",
   "execution_count": 144,
   "metadata": {},
   "outputs": [],
   "source": [
    "# compiling the model\n",
    "model.compile(optimizer = 'adam', loss = 'binary_crossentropy', metrics = ['accuracy'])"
   ]
  },
  {
   "cell_type": "code",
   "execution_count": 145,
   "metadata": {},
   "outputs": [
    {
     "name": "stdout",
     "output_type": "stream",
     "text": [
      "Epoch 1/200\n",
      "484/484 [==============================] - 5s 3ms/step - loss: 0.5519 - accuracy: 0.7347 - val_loss: 0.3751 - val_accuracy: 0.8422\n",
      "Epoch 2/200\n",
      "484/484 [==============================] - 1s 3ms/step - loss: 0.4240 - accuracy: 0.8082 - val_loss: 0.3260 - val_accuracy: 0.8600\n",
      "Epoch 3/200\n",
      "484/484 [==============================] - 1s 3ms/step - loss: 0.3852 - accuracy: 0.8285 - val_loss: 0.3013 - val_accuracy: 0.8776\n",
      "Epoch 4/200\n",
      "484/484 [==============================] - 2s 3ms/step - loss: 0.3605 - accuracy: 0.8418 - val_loss: 0.2884 - val_accuracy: 0.8838\n",
      "Epoch 5/200\n",
      "484/484 [==============================] - 1s 3ms/step - loss: 0.3480 - accuracy: 0.8510 - val_loss: 0.2820 - val_accuracy: 0.8885\n",
      "Epoch 6/200\n",
      "484/484 [==============================] - 2s 4ms/step - loss: 0.3422 - accuracy: 0.8542 - val_loss: 0.2805 - val_accuracy: 0.8869\n",
      "Epoch 7/200\n",
      "484/484 [==============================] - 2s 4ms/step - loss: 0.3278 - accuracy: 0.8608 - val_loss: 0.2764 - val_accuracy: 0.8906\n",
      "Epoch 8/200\n",
      "484/484 [==============================] - 2s 4ms/step - loss: 0.3270 - accuracy: 0.8583 - val_loss: 0.2746 - val_accuracy: 0.8856\n",
      "Epoch 9/200\n",
      "484/484 [==============================] - 2s 4ms/step - loss: 0.3221 - accuracy: 0.8614 - val_loss: 0.2757 - val_accuracy: 0.8867\n",
      "Epoch 10/200\n",
      "484/484 [==============================] - 2s 4ms/step - loss: 0.3227 - accuracy: 0.8648 - val_loss: 0.2640 - val_accuracy: 0.8921\n",
      "Epoch 11/200\n",
      "484/484 [==============================] - 2s 4ms/step - loss: 0.3157 - accuracy: 0.8689 - val_loss: 0.2665 - val_accuracy: 0.8867\n",
      "Epoch 12/200\n",
      "484/484 [==============================] - 2s 3ms/step - loss: 0.3130 - accuracy: 0.8704 - val_loss: 0.2639 - val_accuracy: 0.8838\n",
      "Epoch 13/200\n",
      "484/484 [==============================] - 1s 3ms/step - loss: 0.3115 - accuracy: 0.8732 - val_loss: 0.2556 - val_accuracy: 0.8975\n",
      "Epoch 14/200\n",
      "484/484 [==============================] - 2s 3ms/step - loss: 0.3097 - accuracy: 0.8742 - val_loss: 0.2486 - val_accuracy: 0.9001\n",
      "Epoch 15/200\n",
      "484/484 [==============================] - 1s 3ms/step - loss: 0.2926 - accuracy: 0.8852 - val_loss: 0.2415 - val_accuracy: 0.9032\n",
      "Epoch 16/200\n",
      "484/484 [==============================] - 1s 3ms/step - loss: 0.2867 - accuracy: 0.8857 - val_loss: 0.2313 - val_accuracy: 0.9172\n",
      "Epoch 17/200\n",
      "484/484 [==============================] - 2s 3ms/step - loss: 0.2830 - accuracy: 0.8859 - val_loss: 0.2276 - val_accuracy: 0.9201\n",
      "Epoch 18/200\n",
      "484/484 [==============================] - 2s 4ms/step - loss: 0.2752 - accuracy: 0.8929 - val_loss: 0.2166 - val_accuracy: 0.9226\n",
      "Epoch 19/200\n",
      "484/484 [==============================] - 2s 4ms/step - loss: 0.2723 - accuracy: 0.8971 - val_loss: 0.2170 - val_accuracy: 0.9208\n",
      "Epoch 20/200\n",
      "484/484 [==============================] - 2s 4ms/step - loss: 0.2695 - accuracy: 0.8965 - val_loss: 0.2113 - val_accuracy: 0.9224\n",
      "Epoch 21/200\n",
      "484/484 [==============================] - 2s 3ms/step - loss: 0.2661 - accuracy: 0.8986 - val_loss: 0.2145 - val_accuracy: 0.9252\n",
      "Epoch 22/200\n",
      "484/484 [==============================] - 2s 3ms/step - loss: 0.2618 - accuracy: 0.9019 - val_loss: 0.2086 - val_accuracy: 0.9245\n",
      "Epoch 23/200\n",
      "484/484 [==============================] - 2s 3ms/step - loss: 0.2649 - accuracy: 0.9028 - val_loss: 0.2080 - val_accuracy: 0.9317\n",
      "Epoch 24/200\n",
      "484/484 [==============================] - 1s 3ms/step - loss: 0.2575 - accuracy: 0.9039 - val_loss: 0.2032 - val_accuracy: 0.9322\n",
      "Epoch 25/200\n",
      "484/484 [==============================] - 2s 3ms/step - loss: 0.2621 - accuracy: 0.9021 - val_loss: 0.2071 - val_accuracy: 0.9276\n",
      "Epoch 26/200\n",
      "484/484 [==============================] - 1s 3ms/step - loss: 0.2558 - accuracy: 0.9035 - val_loss: 0.2064 - val_accuracy: 0.9278\n",
      "Epoch 27/200\n",
      "484/484 [==============================] - 2s 4ms/step - loss: 0.2604 - accuracy: 0.9007 - val_loss: 0.2053 - val_accuracy: 0.9312\n",
      "Epoch 28/200\n",
      "484/484 [==============================] - 2s 4ms/step - loss: 0.2655 - accuracy: 0.9006 - val_loss: 0.2035 - val_accuracy: 0.9314\n",
      "Epoch 29/200\n",
      "484/484 [==============================] - 2s 4ms/step - loss: 0.2577 - accuracy: 0.9049 - val_loss: 0.2052 - val_accuracy: 0.9291\n",
      "Epoch 30/200\n",
      "484/484 [==============================] - 2s 3ms/step - loss: 0.2538 - accuracy: 0.9060 - val_loss: 0.2044 - val_accuracy: 0.9296\n",
      "Epoch 31/200\n",
      "484/484 [==============================] - 2s 3ms/step - loss: 0.2481 - accuracy: 0.9101 - val_loss: 0.2058 - val_accuracy: 0.9278\n",
      "Epoch 32/200\n",
      "484/484 [==============================] - 2s 3ms/step - loss: 0.2503 - accuracy: 0.9079 - val_loss: 0.2053 - val_accuracy: 0.9242\n",
      "Epoch 33/200\n",
      "484/484 [==============================] - 2s 3ms/step - loss: 0.2485 - accuracy: 0.9095 - val_loss: 0.2029 - val_accuracy: 0.9273\n",
      "Epoch 34/200\n",
      "484/484 [==============================] - 2s 3ms/step - loss: 0.2483 - accuracy: 0.9086 - val_loss: 0.2017 - val_accuracy: 0.9281\n",
      "Epoch 35/200\n",
      "484/484 [==============================] - 2s 3ms/step - loss: 0.2512 - accuracy: 0.9069 - val_loss: 0.2003 - val_accuracy: 0.9276\n",
      "Epoch 36/200\n",
      "484/484 [==============================] - 2s 3ms/step - loss: 0.2462 - accuracy: 0.9075 - val_loss: 0.2016 - val_accuracy: 0.9320\n",
      "Epoch 37/200\n",
      "484/484 [==============================] - 2s 4ms/step - loss: 0.2520 - accuracy: 0.9070 - val_loss: 0.2013 - val_accuracy: 0.9276\n",
      "Epoch 38/200\n",
      "484/484 [==============================] - 2s 4ms/step - loss: 0.2466 - accuracy: 0.9089 - val_loss: 0.2003 - val_accuracy: 0.9291\n",
      "Epoch 39/200\n",
      "484/484 [==============================] - 2s 4ms/step - loss: 0.2493 - accuracy: 0.9083 - val_loss: 0.2001 - val_accuracy: 0.9291\n",
      "Epoch 40/200\n",
      "484/484 [==============================] - 1s 3ms/step - loss: 0.2419 - accuracy: 0.9110 - val_loss: 0.1943 - val_accuracy: 0.9332\n",
      "Epoch 41/200\n",
      "484/484 [==============================] - 2s 3ms/step - loss: 0.2478 - accuracy: 0.9065 - val_loss: 0.1957 - val_accuracy: 0.9286\n",
      "Epoch 42/200\n",
      "484/484 [==============================] - 2s 3ms/step - loss: 0.2479 - accuracy: 0.9065 - val_loss: 0.1993 - val_accuracy: 0.9255\n",
      "Epoch 43/200\n",
      "484/484 [==============================] - 2s 4ms/step - loss: 0.2494 - accuracy: 0.9072 - val_loss: 0.1965 - val_accuracy: 0.9294\n",
      "Epoch 44/200\n",
      "484/484 [==============================] - 2s 3ms/step - loss: 0.2442 - accuracy: 0.9072 - val_loss: 0.1939 - val_accuracy: 0.9348\n",
      "Epoch 45/200\n",
      "484/484 [==============================] - 2s 3ms/step - loss: 0.2380 - accuracy: 0.9102 - val_loss: 0.1929 - val_accuracy: 0.9291\n",
      "Epoch 46/200\n",
      "484/484 [==============================] - 2s 4ms/step - loss: 0.2429 - accuracy: 0.9097 - val_loss: 0.1957 - val_accuracy: 0.9309\n",
      "Epoch 47/200\n",
      "484/484 [==============================] - 2s 4ms/step - loss: 0.2449 - accuracy: 0.9092 - val_loss: 0.1977 - val_accuracy: 0.9263\n",
      "Epoch 48/200\n",
      "484/484 [==============================] - 2s 4ms/step - loss: 0.2420 - accuracy: 0.9107 - val_loss: 0.1960 - val_accuracy: 0.9276\n",
      "Epoch 49/200\n",
      "484/484 [==============================] - 2s 3ms/step - loss: 0.2369 - accuracy: 0.9136 - val_loss: 0.1912 - val_accuracy: 0.9283\n",
      "Epoch 50/200\n",
      "484/484 [==============================] - 2s 3ms/step - loss: 0.2419 - accuracy: 0.9095 - val_loss: 0.1917 - val_accuracy: 0.9312\n",
      "Epoch 51/200\n",
      "484/484 [==============================] - 1s 3ms/step - loss: 0.2427 - accuracy: 0.9113 - val_loss: 0.1937 - val_accuracy: 0.9260\n",
      "Epoch 52/200\n",
      "484/484 [==============================] - 2s 3ms/step - loss: 0.2424 - accuracy: 0.9108 - val_loss: 0.1951 - val_accuracy: 0.9332\n",
      "Epoch 53/200\n",
      "484/484 [==============================] - 2s 3ms/step - loss: 0.2433 - accuracy: 0.9093 - val_loss: 0.1951 - val_accuracy: 0.9322\n",
      "Epoch 54/200\n",
      "484/484 [==============================] - 2s 3ms/step - loss: 0.2433 - accuracy: 0.9094 - val_loss: 0.1924 - val_accuracy: 0.9299\n",
      "Epoch 55/200\n",
      "484/484 [==============================] - 2s 4ms/step - loss: 0.2380 - accuracy: 0.9121 - val_loss: 0.1907 - val_accuracy: 0.9257\n",
      "Epoch 56/200\n",
      "484/484 [==============================] - 2s 4ms/step - loss: 0.2383 - accuracy: 0.9127 - val_loss: 0.1934 - val_accuracy: 0.9268\n",
      "Epoch 57/200\n",
      "484/484 [==============================] - 2s 5ms/step - loss: 0.2398 - accuracy: 0.9102 - val_loss: 0.1958 - val_accuracy: 0.9268\n",
      "Epoch 58/200\n",
      "484/484 [==============================] - 2s 5ms/step - loss: 0.2395 - accuracy: 0.9121 - val_loss: 0.1957 - val_accuracy: 0.9273\n",
      "Epoch 59/200\n",
      "484/484 [==============================] - 2s 3ms/step - loss: 0.2468 - accuracy: 0.9078 - val_loss: 0.2011 - val_accuracy: 0.9288\n",
      "Epoch 60/200\n",
      "484/484 [==============================] - 2s 3ms/step - loss: 0.2395 - accuracy: 0.9117 - val_loss: 0.1924 - val_accuracy: 0.9270\n",
      "Epoch 61/200\n",
      "484/484 [==============================] - 2s 3ms/step - loss: 0.2353 - accuracy: 0.9124 - val_loss: 0.1914 - val_accuracy: 0.9309\n",
      "Epoch 62/200\n",
      "484/484 [==============================] - 1s 3ms/step - loss: 0.2369 - accuracy: 0.9129 - val_loss: 0.1896 - val_accuracy: 0.9312\n",
      "Epoch 63/200\n",
      "484/484 [==============================] - 2s 4ms/step - loss: 0.2409 - accuracy: 0.9123 - val_loss: 0.1909 - val_accuracy: 0.9340\n",
      "Epoch 64/200\n",
      "484/484 [==============================] - 2s 4ms/step - loss: 0.2414 - accuracy: 0.9119 - val_loss: 0.1921 - val_accuracy: 0.9276\n",
      "Epoch 65/200\n",
      "484/484 [==============================] - 2s 4ms/step - loss: 0.2330 - accuracy: 0.9121 - val_loss: 0.1884 - val_accuracy: 0.9309\n",
      "Epoch 66/200\n",
      "484/484 [==============================] - 2s 4ms/step - loss: 0.2392 - accuracy: 0.9090 - val_loss: 0.1907 - val_accuracy: 0.9309\n",
      "Epoch 67/200\n",
      "484/484 [==============================] - 2s 3ms/step - loss: 0.2312 - accuracy: 0.9135 - val_loss: 0.1883 - val_accuracy: 0.9317\n",
      "Epoch 68/200\n",
      "484/484 [==============================] - 2s 4ms/step - loss: 0.2413 - accuracy: 0.9116 - val_loss: 0.1934 - val_accuracy: 0.9260\n",
      "Epoch 69/200\n",
      "484/484 [==============================] - 1s 3ms/step - loss: 0.2349 - accuracy: 0.9107 - val_loss: 0.1912 - val_accuracy: 0.9304\n",
      "Epoch 70/200\n",
      "484/484 [==============================] - 2s 4ms/step - loss: 0.2366 - accuracy: 0.9119 - val_loss: 0.1911 - val_accuracy: 0.9263\n",
      "Epoch 71/200\n",
      "484/484 [==============================] - 1s 3ms/step - loss: 0.2361 - accuracy: 0.9118 - val_loss: 0.1894 - val_accuracy: 0.9278\n",
      "Epoch 72/200\n",
      "484/484 [==============================] - 2s 4ms/step - loss: 0.2411 - accuracy: 0.9096 - val_loss: 0.1894 - val_accuracy: 0.9304\n",
      "Epoch 73/200\n",
      "484/484 [==============================] - 2s 4ms/step - loss: 0.2387 - accuracy: 0.9092 - val_loss: 0.1926 - val_accuracy: 0.9257\n",
      "Epoch 74/200\n",
      "484/484 [==============================] - 2s 4ms/step - loss: 0.2412 - accuracy: 0.9112 - val_loss: 0.1895 - val_accuracy: 0.9304\n",
      "Epoch 75/200\n",
      "484/484 [==============================] - 2s 4ms/step - loss: 0.2330 - accuracy: 0.9113 - val_loss: 0.1878 - val_accuracy: 0.9291\n",
      "Epoch 76/200\n",
      "484/484 [==============================] - 1s 3ms/step - loss: 0.2404 - accuracy: 0.9107 - val_loss: 0.1904 - val_accuracy: 0.9268\n",
      "Epoch 77/200\n",
      "484/484 [==============================] - 2s 3ms/step - loss: 0.2365 - accuracy: 0.9110 - val_loss: 0.1868 - val_accuracy: 0.9307\n",
      "Epoch 78/200\n",
      "484/484 [==============================] - 1s 3ms/step - loss: 0.2362 - accuracy: 0.9112 - val_loss: 0.1874 - val_accuracy: 0.9309\n",
      "Epoch 79/200\n",
      "484/484 [==============================] - 2s 3ms/step - loss: 0.2388 - accuracy: 0.9105 - val_loss: 0.1916 - val_accuracy: 0.9312\n",
      "Epoch 80/200\n",
      "484/484 [==============================] - 2s 3ms/step - loss: 0.2372 - accuracy: 0.9120 - val_loss: 0.1864 - val_accuracy: 0.9268\n",
      "Epoch 81/200\n",
      "484/484 [==============================] - 2s 3ms/step - loss: 0.2310 - accuracy: 0.9118 - val_loss: 0.1887 - val_accuracy: 0.9327\n",
      "Epoch 82/200\n",
      "484/484 [==============================] - 2s 4ms/step - loss: 0.2389 - accuracy: 0.9134 - val_loss: 0.1931 - val_accuracy: 0.9208\n",
      "Epoch 83/200\n",
      "484/484 [==============================] - 2s 4ms/step - loss: 0.2391 - accuracy: 0.9092 - val_loss: 0.1937 - val_accuracy: 0.9213\n",
      "Epoch 84/200\n",
      "484/484 [==============================] - 2s 4ms/step - loss: 0.2333 - accuracy: 0.9118 - val_loss: 0.1922 - val_accuracy: 0.9252\n",
      "Epoch 85/200\n",
      "484/484 [==============================] - 2s 3ms/step - loss: 0.2349 - accuracy: 0.9143 - val_loss: 0.1888 - val_accuracy: 0.9296\n",
      "Epoch 86/200\n",
      "484/484 [==============================] - 2s 3ms/step - loss: 0.2319 - accuracy: 0.9114 - val_loss: 0.1900 - val_accuracy: 0.9257\n",
      "Epoch 87/200\n",
      "484/484 [==============================] - 2s 3ms/step - loss: 0.2347 - accuracy: 0.9125 - val_loss: 0.1900 - val_accuracy: 0.9288\n",
      "Epoch 88/200\n",
      "484/484 [==============================] - 2s 3ms/step - loss: 0.2371 - accuracy: 0.9110 - val_loss: 0.1933 - val_accuracy: 0.9250\n",
      "Epoch 89/200\n",
      "484/484 [==============================] - 1s 3ms/step - loss: 0.2282 - accuracy: 0.9144 - val_loss: 0.1868 - val_accuracy: 0.9252\n",
      "Epoch 90/200\n",
      "484/484 [==============================] - 2s 3ms/step - loss: 0.2269 - accuracy: 0.9155 - val_loss: 0.1877 - val_accuracy: 0.9239\n",
      "Epoch 91/200\n",
      "484/484 [==============================] - 2s 4ms/step - loss: 0.2330 - accuracy: 0.9161 - val_loss: 0.1862 - val_accuracy: 0.9265\n",
      "Epoch 92/200\n",
      "484/484 [==============================] - 2s 4ms/step - loss: 0.2305 - accuracy: 0.9153 - val_loss: 0.1855 - val_accuracy: 0.9320\n",
      "Epoch 93/200\n",
      "484/484 [==============================] - 2s 5ms/step - loss: 0.2302 - accuracy: 0.9149 - val_loss: 0.1879 - val_accuracy: 0.9309\n",
      "Epoch 94/200\n",
      "484/484 [==============================] - 2s 4ms/step - loss: 0.2316 - accuracy: 0.9156 - val_loss: 0.1872 - val_accuracy: 0.9273\n",
      "Epoch 95/200\n",
      "484/484 [==============================] - 2s 3ms/step - loss: 0.2317 - accuracy: 0.9151 - val_loss: 0.1883 - val_accuracy: 0.9288\n",
      "Epoch 96/200\n",
      "484/484 [==============================] - 1s 3ms/step - loss: 0.2297 - accuracy: 0.9150 - val_loss: 0.1850 - val_accuracy: 0.9299\n",
      "Epoch 97/200\n",
      "484/484 [==============================] - 2s 3ms/step - loss: 0.2311 - accuracy: 0.9145 - val_loss: 0.1833 - val_accuracy: 0.9358\n",
      "Epoch 98/200\n",
      "484/484 [==============================] - 1s 3ms/step - loss: 0.2303 - accuracy: 0.9134 - val_loss: 0.1840 - val_accuracy: 0.9312\n",
      "Epoch 99/200\n",
      "484/484 [==============================] - 2s 3ms/step - loss: 0.2336 - accuracy: 0.9141 - val_loss: 0.1877 - val_accuracy: 0.9330\n",
      "Epoch 100/200\n",
      "484/484 [==============================] - 2s 3ms/step - loss: 0.2295 - accuracy: 0.9164 - val_loss: 0.1839 - val_accuracy: 0.9325\n",
      "Epoch 101/200\n",
      "484/484 [==============================] - 2s 4ms/step - loss: 0.2298 - accuracy: 0.9131 - val_loss: 0.1860 - val_accuracy: 0.9369\n",
      "Epoch 102/200\n",
      "484/484 [==============================] - 2s 4ms/step - loss: 0.2267 - accuracy: 0.9160 - val_loss: 0.1852 - val_accuracy: 0.9364\n",
      "Epoch 103/200\n",
      "484/484 [==============================] - 2s 4ms/step - loss: 0.2270 - accuracy: 0.9171 - val_loss: 0.1858 - val_accuracy: 0.9317\n",
      "Epoch 104/200\n",
      "484/484 [==============================] - 2s 3ms/step - loss: 0.2311 - accuracy: 0.9161 - val_loss: 0.1855 - val_accuracy: 0.9260\n",
      "Epoch 105/200\n",
      "484/484 [==============================] - 1s 3ms/step - loss: 0.2298 - accuracy: 0.9163 - val_loss: 0.1894 - val_accuracy: 0.9304\n",
      "Epoch 106/200\n",
      "484/484 [==============================] - 2s 3ms/step - loss: 0.2259 - accuracy: 0.9163 - val_loss: 0.1835 - val_accuracy: 0.9286\n",
      "Epoch 107/200\n",
      "484/484 [==============================] - 1s 3ms/step - loss: 0.2270 - accuracy: 0.9151 - val_loss: 0.1829 - val_accuracy: 0.9291\n",
      "Epoch 108/200\n",
      "484/484 [==============================] - 2s 3ms/step - loss: 0.2250 - accuracy: 0.9181 - val_loss: 0.1842 - val_accuracy: 0.9294\n",
      "Epoch 109/200\n",
      "484/484 [==============================] - 2s 3ms/step - loss: 0.2327 - accuracy: 0.9143 - val_loss: 0.1834 - val_accuracy: 0.9317\n",
      "Epoch 110/200\n",
      "484/484 [==============================] - 2s 4ms/step - loss: 0.2240 - accuracy: 0.9173 - val_loss: 0.1832 - val_accuracy: 0.9276\n",
      "Epoch 111/200\n",
      "484/484 [==============================] - 2s 4ms/step - loss: 0.2277 - accuracy: 0.9140 - val_loss: 0.1827 - val_accuracy: 0.9330\n",
      "Epoch 112/200\n",
      "484/484 [==============================] - 2s 4ms/step - loss: 0.2205 - accuracy: 0.9181 - val_loss: 0.1840 - val_accuracy: 0.9358\n",
      "Epoch 113/200\n",
      "484/484 [==============================] - 2s 3ms/step - loss: 0.2255 - accuracy: 0.9141 - val_loss: 0.1823 - val_accuracy: 0.9361\n",
      "Epoch 114/200\n",
      "484/484 [==============================] - 2s 3ms/step - loss: 0.2243 - accuracy: 0.9165 - val_loss: 0.1902 - val_accuracy: 0.9299\n",
      "Epoch 115/200\n",
      "484/484 [==============================] - 1s 3ms/step - loss: 0.2291 - accuracy: 0.9132 - val_loss: 0.1799 - val_accuracy: 0.9314\n",
      "Epoch 116/200\n",
      "484/484 [==============================] - 2s 3ms/step - loss: 0.2235 - accuracy: 0.9176 - val_loss: 0.1828 - val_accuracy: 0.9343\n",
      "Epoch 117/200\n",
      "484/484 [==============================] - 1s 3ms/step - loss: 0.2207 - accuracy: 0.9184 - val_loss: 0.1829 - val_accuracy: 0.9314\n",
      "Epoch 118/200\n",
      "484/484 [==============================] - 2s 3ms/step - loss: 0.2260 - accuracy: 0.9159 - val_loss: 0.1867 - val_accuracy: 0.9327\n",
      "Epoch 119/200\n",
      "484/484 [==============================] - 2s 4ms/step - loss: 0.2224 - accuracy: 0.9160 - val_loss: 0.1832 - val_accuracy: 0.9338\n",
      "Epoch 120/200\n",
      "484/484 [==============================] - 2s 4ms/step - loss: 0.2247 - accuracy: 0.9176 - val_loss: 0.1812 - val_accuracy: 0.9309\n",
      "Epoch 121/200\n",
      "484/484 [==============================] - 2s 4ms/step - loss: 0.2260 - accuracy: 0.9152 - val_loss: 0.1844 - val_accuracy: 0.9312\n",
      "Epoch 122/200\n",
      "484/484 [==============================] - 2s 5ms/step - loss: 0.2227 - accuracy: 0.9152 - val_loss: 0.1846 - val_accuracy: 0.9317\n",
      "Epoch 123/200\n",
      "484/484 [==============================] - 3s 5ms/step - loss: 0.2252 - accuracy: 0.9167 - val_loss: 0.1813 - val_accuracy: 0.9314\n",
      "Epoch 124/200\n",
      "484/484 [==============================] - 3s 6ms/step - loss: 0.2259 - accuracy: 0.9170 - val_loss: 0.1802 - val_accuracy: 0.9332\n",
      "Epoch 125/200\n",
      "484/484 [==============================] - 2s 4ms/step - loss: 0.2212 - accuracy: 0.9147 - val_loss: 0.1851 - val_accuracy: 0.9278\n",
      "Epoch 126/200\n",
      "484/484 [==============================] - 2s 5ms/step - loss: 0.2317 - accuracy: 0.9125 - val_loss: 0.1820 - val_accuracy: 0.9332\n",
      "Epoch 127/200\n",
      "484/484 [==============================] - 2s 5ms/step - loss: 0.2218 - accuracy: 0.9170 - val_loss: 0.1792 - val_accuracy: 0.9317\n",
      "Epoch 128/200\n",
      "484/484 [==============================] - 2s 5ms/step - loss: 0.2178 - accuracy: 0.9165 - val_loss: 0.1788 - val_accuracy: 0.9340\n",
      "Epoch 129/200\n",
      "484/484 [==============================] - 2s 5ms/step - loss: 0.2215 - accuracy: 0.9167 - val_loss: 0.1801 - val_accuracy: 0.9317\n",
      "Epoch 130/200\n",
      "484/484 [==============================] - 2s 3ms/step - loss: 0.2250 - accuracy: 0.9147 - val_loss: 0.1800 - val_accuracy: 0.9330\n",
      "Epoch 131/200\n",
      "484/484 [==============================] - 2s 4ms/step - loss: 0.2205 - accuracy: 0.9163 - val_loss: 0.1807 - val_accuracy: 0.9314\n",
      "Epoch 132/200\n",
      "484/484 [==============================] - 2s 5ms/step - loss: 0.2211 - accuracy: 0.9171 - val_loss: 0.1822 - val_accuracy: 0.9320\n",
      "Epoch 133/200\n",
      "484/484 [==============================] - 3s 5ms/step - loss: 0.2187 - accuracy: 0.9171 - val_loss: 0.1784 - val_accuracy: 0.9348\n",
      "Epoch 134/200\n",
      "484/484 [==============================] - 3s 5ms/step - loss: 0.2212 - accuracy: 0.9184 - val_loss: 0.1791 - val_accuracy: 0.9317\n",
      "Epoch 135/200\n",
      "484/484 [==============================] - 3s 6ms/step - loss: 0.2252 - accuracy: 0.9149 - val_loss: 0.1835 - val_accuracy: 0.9325\n",
      "Epoch 136/200\n",
      "484/484 [==============================] - 3s 6ms/step - loss: 0.2234 - accuracy: 0.9192 - val_loss: 0.1850 - val_accuracy: 0.9314\n",
      "Epoch 137/200\n",
      "484/484 [==============================] - 5s 11ms/step - loss: 0.2207 - accuracy: 0.9176 - val_loss: 0.1808 - val_accuracy: 0.9294\n",
      "Epoch 138/200\n",
      "484/484 [==============================] - 4s 9ms/step - loss: 0.2211 - accuracy: 0.9168 - val_loss: 0.1786 - val_accuracy: 0.9338\n",
      "Epoch 139/200\n",
      "484/484 [==============================] - 4s 8ms/step - loss: 0.2260 - accuracy: 0.9156 - val_loss: 0.1820 - val_accuracy: 0.9314\n",
      "Epoch 140/200\n",
      "484/484 [==============================] - 5s 10ms/step - loss: 0.2259 - accuracy: 0.9149 - val_loss: 0.1815 - val_accuracy: 0.9335\n",
      "Epoch 141/200\n",
      "484/484 [==============================] - 4s 8ms/step - loss: 0.2246 - accuracy: 0.9161 - val_loss: 0.1802 - val_accuracy: 0.9325\n",
      "Epoch 142/200\n",
      "484/484 [==============================] - 5s 11ms/step - loss: 0.2217 - accuracy: 0.9166 - val_loss: 0.1799 - val_accuracy: 0.9314\n",
      "Epoch 143/200\n",
      "484/484 [==============================] - 6s 12ms/step - loss: 0.2233 - accuracy: 0.9149 - val_loss: 0.1814 - val_accuracy: 0.9294\n",
      "Epoch 144/200\n",
      "484/484 [==============================] - 4s 9ms/step - loss: 0.2176 - accuracy: 0.9175 - val_loss: 0.1798 - val_accuracy: 0.9322\n",
      "Epoch 145/200\n",
      "484/484 [==============================] - 6s 13ms/step - loss: 0.2235 - accuracy: 0.9173 - val_loss: 0.1828 - val_accuracy: 0.9281\n",
      "Epoch 146/200\n",
      "484/484 [==============================] - 5s 10ms/step - loss: 0.2206 - accuracy: 0.9169 - val_loss: 0.1764 - val_accuracy: 0.9356\n",
      "Epoch 147/200\n",
      "484/484 [==============================] - 5s 10ms/step - loss: 0.2239 - accuracy: 0.9173 - val_loss: 0.1800 - val_accuracy: 0.9325\n",
      "Epoch 148/200\n",
      "484/484 [==============================] - 4s 8ms/step - loss: 0.2242 - accuracy: 0.9172 - val_loss: 0.1892 - val_accuracy: 0.9304\n",
      "Epoch 149/200\n",
      "484/484 [==============================] - 3s 7ms/step - loss: 0.2269 - accuracy: 0.9152 - val_loss: 0.1820 - val_accuracy: 0.9307\n",
      "Epoch 150/200\n",
      "484/484 [==============================] - 3s 6ms/step - loss: 0.2173 - accuracy: 0.9192 - val_loss: 0.1817 - val_accuracy: 0.9325\n",
      "Epoch 151/200\n",
      "484/484 [==============================] - 3s 6ms/step - loss: 0.2229 - accuracy: 0.9164 - val_loss: 0.1802 - val_accuracy: 0.9335\n",
      "Epoch 152/200\n",
      "484/484 [==============================] - 3s 7ms/step - loss: 0.2210 - accuracy: 0.9165 - val_loss: 0.1779 - val_accuracy: 0.9353\n",
      "Epoch 153/200\n",
      "484/484 [==============================] - 4s 7ms/step - loss: 0.2223 - accuracy: 0.9178 - val_loss: 0.1814 - val_accuracy: 0.9348\n",
      "Epoch 154/200\n",
      "484/484 [==============================] - 3s 7ms/step - loss: 0.2169 - accuracy: 0.9171 - val_loss: 0.1833 - val_accuracy: 0.9330\n",
      "Epoch 155/200\n",
      "484/484 [==============================] - 3s 6ms/step - loss: 0.2238 - accuracy: 0.9169 - val_loss: 0.1819 - val_accuracy: 0.9312\n",
      "Epoch 156/200\n",
      "484/484 [==============================] - 3s 6ms/step - loss: 0.2213 - accuracy: 0.9166 - val_loss: 0.1756 - val_accuracy: 0.9335\n",
      "Epoch 157/200\n",
      "484/484 [==============================] - 2s 4ms/step - loss: 0.2275 - accuracy: 0.9158 - val_loss: 0.1800 - val_accuracy: 0.9340\n",
      "Epoch 158/200\n",
      "484/484 [==============================] - 2s 4ms/step - loss: 0.2197 - accuracy: 0.9166 - val_loss: 0.1842 - val_accuracy: 0.9309\n",
      "Epoch 159/200\n",
      "484/484 [==============================] - 3s 5ms/step - loss: 0.2211 - accuracy: 0.9156 - val_loss: 0.1784 - val_accuracy: 0.9294\n",
      "Epoch 160/200\n",
      "484/484 [==============================] - 2s 5ms/step - loss: 0.2211 - accuracy: 0.9157 - val_loss: 0.1806 - val_accuracy: 0.9304\n",
      "Epoch 161/200\n",
      "484/484 [==============================] - 2s 5ms/step - loss: 0.2269 - accuracy: 0.9125 - val_loss: 0.1806 - val_accuracy: 0.9273\n",
      "Epoch 162/200\n",
      "484/484 [==============================] - 3s 5ms/step - loss: 0.2277 - accuracy: 0.9138 - val_loss: 0.1792 - val_accuracy: 0.9299\n",
      "Epoch 163/200\n",
      "484/484 [==============================] - 2s 5ms/step - loss: 0.2223 - accuracy: 0.9174 - val_loss: 0.1771 - val_accuracy: 0.9304\n",
      "Epoch 164/200\n",
      "484/484 [==============================] - 2s 4ms/step - loss: 0.2238 - accuracy: 0.9156 - val_loss: 0.1787 - val_accuracy: 0.9330\n",
      "Epoch 165/200\n",
      "484/484 [==============================] - 3s 5ms/step - loss: 0.2258 - accuracy: 0.9151 - val_loss: 0.1817 - val_accuracy: 0.9299\n",
      "Epoch 166/200\n",
      "484/484 [==============================] - 2s 4ms/step - loss: 0.2226 - accuracy: 0.9147 - val_loss: 0.1722 - val_accuracy: 0.9325\n",
      "Epoch 167/200\n",
      "484/484 [==============================] - 2s 5ms/step - loss: 0.2233 - accuracy: 0.9143 - val_loss: 0.1730 - val_accuracy: 0.9320\n",
      "Epoch 168/200\n",
      "484/484 [==============================] - 3s 6ms/step - loss: 0.2180 - accuracy: 0.9165 - val_loss: 0.1820 - val_accuracy: 0.9340\n",
      "Epoch 169/200\n",
      "484/484 [==============================] - 2s 3ms/step - loss: 0.2204 - accuracy: 0.9190 - val_loss: 0.1730 - val_accuracy: 0.9309\n",
      "Epoch 170/200\n",
      "484/484 [==============================] - 2s 3ms/step - loss: 0.2219 - accuracy: 0.9163 - val_loss: 0.1773 - val_accuracy: 0.9325\n",
      "Epoch 171/200\n",
      "484/484 [==============================] - 2s 4ms/step - loss: 0.2200 - accuracy: 0.9172 - val_loss: 0.1723 - val_accuracy: 0.9330\n",
      "Epoch 172/200\n",
      "484/484 [==============================] - 2s 4ms/step - loss: 0.2185 - accuracy: 0.9169 - val_loss: 0.1722 - val_accuracy: 0.9364\n",
      "Epoch 173/200\n",
      "484/484 [==============================] - 2s 4ms/step - loss: 0.2227 - accuracy: 0.9153 - val_loss: 0.1774 - val_accuracy: 0.9314\n",
      "Epoch 174/200\n",
      "484/484 [==============================] - 2s 5ms/step - loss: 0.2154 - accuracy: 0.9156 - val_loss: 0.1742 - val_accuracy: 0.9325\n",
      "Epoch 175/200\n",
      "484/484 [==============================] - 3s 7ms/step - loss: 0.2173 - accuracy: 0.9191 - val_loss: 0.1738 - val_accuracy: 0.9317\n",
      "Epoch 176/200\n",
      "484/484 [==============================] - 3s 6ms/step - loss: 0.2220 - accuracy: 0.9155 - val_loss: 0.1774 - val_accuracy: 0.9288\n",
      "Epoch 177/200\n",
      "484/484 [==============================] - 2s 5ms/step - loss: 0.2215 - accuracy: 0.9165 - val_loss: 0.1783 - val_accuracy: 0.9327\n",
      "Epoch 178/200\n",
      "484/484 [==============================] - 2s 5ms/step - loss: 0.2158 - accuracy: 0.9191 - val_loss: 0.1730 - val_accuracy: 0.9309\n",
      "Epoch 179/200\n",
      "484/484 [==============================] - 3s 7ms/step - loss: 0.2159 - accuracy: 0.9198 - val_loss: 0.1736 - val_accuracy: 0.9317\n",
      "Epoch 180/200\n",
      "484/484 [==============================] - 2s 5ms/step - loss: 0.2148 - accuracy: 0.9182 - val_loss: 0.1797 - val_accuracy: 0.9322\n",
      "Epoch 181/200\n",
      "484/484 [==============================] - 2s 5ms/step - loss: 0.2192 - accuracy: 0.9163 - val_loss: 0.1721 - val_accuracy: 0.9309\n",
      "Epoch 182/200\n",
      "484/484 [==============================] - 2s 4ms/step - loss: 0.2215 - accuracy: 0.9171 - val_loss: 0.1696 - val_accuracy: 0.9351\n",
      "Epoch 183/200\n",
      "484/484 [==============================] - 2s 4ms/step - loss: 0.2209 - accuracy: 0.9157 - val_loss: 0.1709 - val_accuracy: 0.9335\n",
      "Epoch 184/200\n",
      "484/484 [==============================] - 2s 4ms/step - loss: 0.2199 - accuracy: 0.9157 - val_loss: 0.1748 - val_accuracy: 0.9340\n",
      "Epoch 185/200\n",
      "484/484 [==============================] - 2s 4ms/step - loss: 0.2181 - accuracy: 0.9179 - val_loss: 0.1727 - val_accuracy: 0.9330\n",
      "Epoch 186/200\n",
      "484/484 [==============================] - 2s 4ms/step - loss: 0.2139 - accuracy: 0.9209 - val_loss: 0.1704 - val_accuracy: 0.9364\n",
      "Epoch 187/200\n",
      "484/484 [==============================] - 3s 6ms/step - loss: 0.2146 - accuracy: 0.9193 - val_loss: 0.1701 - val_accuracy: 0.9322\n",
      "Epoch 188/200\n",
      "484/484 [==============================] - 2s 5ms/step - loss: 0.2184 - accuracy: 0.9186 - val_loss: 0.1722 - val_accuracy: 0.9338\n",
      "Epoch 189/200\n",
      "484/484 [==============================] - 2s 4ms/step - loss: 0.2123 - accuracy: 0.9191 - val_loss: 0.1763 - val_accuracy: 0.9327\n",
      "Epoch 190/200\n",
      "484/484 [==============================] - 2s 5ms/step - loss: 0.2226 - accuracy: 0.9154 - val_loss: 0.1733 - val_accuracy: 0.9345\n",
      "Epoch 191/200\n",
      "484/484 [==============================] - 3s 6ms/step - loss: 0.2224 - accuracy: 0.9171 - val_loss: 0.1753 - val_accuracy: 0.9322\n",
      "Epoch 192/200\n",
      "484/484 [==============================] - 2s 4ms/step - loss: 0.2168 - accuracy: 0.9164 - val_loss: 0.1731 - val_accuracy: 0.9408\n",
      "Epoch 193/200\n",
      "484/484 [==============================] - 3s 6ms/step - loss: 0.2163 - accuracy: 0.9165 - val_loss: 0.1748 - val_accuracy: 0.9322\n",
      "Epoch 194/200\n",
      "484/484 [==============================] - 3s 6ms/step - loss: 0.2158 - accuracy: 0.9179 - val_loss: 0.1717 - val_accuracy: 0.9348\n",
      "Epoch 195/200\n",
      "484/484 [==============================] - 3s 6ms/step - loss: 0.2188 - accuracy: 0.9146 - val_loss: 0.1783 - val_accuracy: 0.9348\n",
      "Epoch 196/200\n",
      "484/484 [==============================] - 3s 5ms/step - loss: 0.2195 - accuracy: 0.9176 - val_loss: 0.1724 - val_accuracy: 0.9332\n",
      "Epoch 197/200\n",
      "484/484 [==============================] - 2s 4ms/step - loss: 0.2188 - accuracy: 0.9165 - val_loss: 0.1767 - val_accuracy: 0.9322\n",
      "Epoch 198/200\n",
      "484/484 [==============================] - 2s 5ms/step - loss: 0.2221 - accuracy: 0.9167 - val_loss: 0.1770 - val_accuracy: 0.9281\n",
      "Epoch 199/200\n",
      "484/484 [==============================] - 4s 7ms/step - loss: 0.2198 - accuracy: 0.9176 - val_loss: 0.1782 - val_accuracy: 0.9338\n",
      "Epoch 200/200\n",
      "484/484 [==============================] - 2s 5ms/step - loss: 0.2139 - accuracy: 0.9203 - val_loss: 0.1698 - val_accuracy: 0.9351\n"
     ]
    }
   ],
   "source": [
    "# fitting the model to the training set \n",
    "model_history = model.fit(X_train, y_train, validation_split = 0.2, validation_data = (X_test, y_test), epochs = 200,shuffle=True)"
   ]
  },
  {
   "cell_type": "code",
   "execution_count": 146,
   "metadata": {},
   "outputs": [
    {
     "data": {
      "text/plain": [
       "dict_keys(['loss', 'accuracy', 'val_loss', 'val_accuracy'])"
      ]
     },
     "execution_count": 146,
     "metadata": {},
     "output_type": "execute_result"
    }
   ],
   "source": [
    "history_dict=model_history.history\n",
    "history_dict.keys() "
   ]
  },
  {
   "cell_type": "code",
   "execution_count": 147,
   "metadata": {},
   "outputs": [
    {
     "data": {
      "image/png": "[encoded data removed]",
      "text/plain": [
       "<Figure size 640x480 with 1 Axes>"
      ]
     },
     "metadata": {},
     "output_type": "display_data"
    }
   ],
   "source": [
    "plt.plot(history_dict['loss'])\n",
    "plt.plot(history_dict['val_loss'])\n",
    "plt.title('Loss and Validation Loss')\n",
    "plt.ylabel('Loss')\n",
    "plt.xlabel('Epoch')\n",
    "plt.legend(['Loss', 'Validation Accuracy'], loc='upper right')\n",
    "plt.show()"
   ]
  },
  {
   "cell_type": "code",
   "execution_count": 148,
   "metadata": {},
   "outputs": [
    {
     "data": {
      "image/png": "[encoded data removed]",
      "text/plain": [
       "<Figure size 640x480 with 1 Axes>"
      ]
     },
     "metadata": {},
     "output_type": "display_data"
    }
   ],
   "source": [
    "plt.plot(history_dict['accuracy'])\n",
    "plt.plot(history_dict['val_accuracy'])\n",
    "plt.title('Training and Validation Accuracy')\n",
    "plt.ylabel('Accuracy')\n",
    "plt.xlabel('Epoch')\n",
    "plt.legend(['Training Accuracy', 'Validation Accuracy'], loc='lower right')\n",
    "plt.show()"
   ]
  },
  {
   "cell_type": "code",
   "execution_count": 149,
   "metadata": {},
   "outputs": [
    {
     "name": "stdout",
     "output_type": "stream",
     "text": [
      "121/121 [==============================] - 0s 3ms/step - loss: 0.1698 - accuracy: 0.9351\n",
      "Accuracy of model is 0.9350582361221313\n"
     ]
    }
   ],
   "source": [
    "acc = model.evaluate(X_test, y_test)[1]\n",
    "\n",
    "print(f'Accuracy of model is {acc}')"
   ]
  },
  {
   "cell_type": "code",
   "execution_count": 150,
   "metadata": {},
   "outputs": [
    {
     "name": "stdout",
     "output_type": "stream",
     "text": [
      "Model: \"sequential_2\"\n",
      "_________________________________________________________________\n",
      " Layer (type)                Output Shape              Param #   \n",
      "=================================================================\n",
      " dense_6 (Dense)             (None, 10)                80        \n",
      "                                                                 \n",
      " batch_normalization_4 (Bat  (None, 10)                40        \n",
      " chNormalization)                                                \n",
      "                                                                 \n",
      " dropout_4 (Dropout)         (None, 10)                0         \n",
      "                                                                 \n",
      " dense_7 (Dense)             (None, 7)                 77        \n",
      "                                                                 \n",
      " batch_normalization_5 (Bat  (None, 7)                 28        \n",
      " chNormalization)                                                \n",
      "                                                                 \n",
      " dropout_5 (Dropout)         (None, 7)                 0         \n",
      "                                                                 \n",
      " dense_8 (Dense)             (None, 1)                 8         \n",
      "                                                                 \n",
      "=================================================================\n",
      "Total params: 233 (932.00 Byte)\n",
      "Trainable params: 199 (796.00 Byte)\n",
      "Non-trainable params: 34 (136.00 Byte)\n",
      "_________________________________________________________________\n"
     ]
    }
   ],
   "source": [
    "model.summary()"
   ]
  },
  {
   "cell_type": "code",
   "execution_count": 151,
   "metadata": {},
   "outputs": [
    {
     "name": "stdout",
     "output_type": "stream",
     "text": [
      "121/121 [==============================] - 1s 3ms/step\n",
      "              precision    recall  f1-score   support\n",
      "\n",
      "           0       0.96      0.91      0.93      1923\n",
      "           1       0.92      0.96      0.94      1942\n",
      "\n",
      "    accuracy                           0.94      3865\n",
      "   macro avg       0.94      0.93      0.94      3865\n",
      "weighted avg       0.94      0.94      0.94      3865\n",
      "\n"
     ]
    }
   ],
   "source": [
    "from sklearn.metrics import classification_report\n",
    "y_pre = []\n",
    "for element in model.predict(X_test):\n",
    "    if element > 0.5:\n",
    "        y_pre.append(1)\n",
    "    else:\n",
    "        y_pre.append(0)\n",
    "\n",
    "print(classification_report(y_test,y_pre))"
   ]
  },
  {
   "cell_type": "code",
   "execution_count": 152,
   "metadata": {},
   "outputs": [
    {
     "name": "stdout",
     "output_type": "stream",
     "text": [
      "121/121 [==============================] - 0s 2ms/step\n"
     ]
    },
    {
     "data": {
      "image/png": "[encoded data removed]",
      "text/plain": [
       "<Figure size 640x480 with 1 Axes>"
      ]
     },
     "metadata": {},
     "output_type": "display_data"
    }
   ],
   "source": [
    "from sklearn import metrics\n",
    "from sklearn.metrics import roc_curve\n",
    "from sklearn.neural_network import MLPClassifier\n",
    "predictions = model.predict(X_test)\n",
    "y_pre_prob =  predictions[:, 0]\n",
    "fpr, tpr, thresholds = roc_curve(y_test, y_pre_prob)\n",
    "auc = metrics.roc_auc_score(y_test, y_pre_prob)\n",
    "\n",
    "plt.figure()\n",
    "lw = 2\n",
    "plt.plot(fpr, tpr, color = 'darkorange',lw = lw, label = 'ROC CURVE(area=%0.2f)' %auc)\n",
    "plt.plot([0,1],[0,1], color = 'navy', lw = lw, linestyle = '--')\n",
    "plt.xlim([0.0, 1.0])\n",
    "plt.ylim([0.0, 1.05])\n",
    "plt.xlabel('FALSE POSITIVE RATE')\n",
    "plt.ylabel('TRUE POSITIVE RATE')\n",
    "plt.title('ROC CURVE')\n",
    "plt.legend(loc = 'lower right')\n",
    "plt.show()"
   ]
  },
  {
   "cell_type": "code",
   "execution_count": 153,
   "metadata": {},
   "outputs": [
    {
     "name": "stdout",
     "output_type": "stream",
     "text": [
      "              precision    recall  f1-score   support\n",
      "\n",
      "           0       0.96      0.91      0.93      1923\n",
      "           1       0.92      0.96      0.94      1942\n",
      "\n",
      "    accuracy                           0.94      3865\n",
      "   macro avg       0.94      0.93      0.94      3865\n",
      "weighted avg       0.94      0.94      0.94      3865\n",
      "\n"
     ]
    },
    {
     "data": {
      "image/png": "[encoded data removed]",
      "text/plain": [
       "<Figure size 640x480 with 2 Axes>"
      ]
     },
     "metadata": {},
     "output_type": "display_data"
    }
   ],
   "source": [
    "from sklearn.metrics import classification_report, confusion_matrix\n",
    "import seaborn as sns\n",
    "import matplotlib.pyplot as plt\n",
    "\n",
    "# Assuming you have predictions (binary_predictions) from your model\n",
    "binary_predictions = (predictions > 0.5).astype(int)\n",
    "\n",
    "# Get class labels\n",
    "class_labels = ['Class 0 - False', 'Class 1 - True']\n",
    "\n",
    "# Print classification report\n",
    "print(classification_report(y_test, binary_predictions))\n",
    "\n",
    "# Create confusion matrix\n",
    "cm = confusion_matrix(y_test, binary_predictions)\n",
    "\n",
    "# Plot confusion matrix with labels\n",
    "sns.heatmap(cm, annot=True, cmap='Blues', fmt='g', xticklabels=class_labels, yticklabels=class_labels)\n",
    "plt.xlabel('Predicted')\n",
    "plt.ylabel('True')\n",
    "plt.title('Confusion Matrix for Artificial Neural Network')\n",
    "plt.show()\n"
   ]
  },
  {
   "cell_type": "code",
   "execution_count": null,
   "metadata": {},
   "outputs": [],
   "source": []
  },
  {
   "cell_type": "code",
   "execution_count": null,
   "metadata": {},
   "outputs": [],
   "source": []
  }
 ],
 "metadata": {
  "kernelspec": {
   "display_name": "Python 3 (ipykernel)",
   "language": "python",
   "name": "python3"
  },
  "language_info": {
   "codemirror_mode": {
    "name": "ipython",
    "version": 3
   },
   "file_extension": ".py",
   "mimetype": "text/x-python",
   "name": "python",
   "nbconvert_exporter": "python",
   "pygments_lexer": "ipython3",
   "version": "3.10.9"
  },
  "widgets": {
   "application/vnd.jupyter.widget-state+json": {
    "state": {},
    "version_major": 2,
    "version_minor": 0
   }
  }
 },
 "nbformat": 4,
 "nbformat_minor": 4
}
